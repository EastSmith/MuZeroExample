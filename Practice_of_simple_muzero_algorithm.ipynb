{
 "cells": [
  {
   "cell_type": "markdown",
   "metadata": {
    "collapsed": false
   },
   "source": [
    "**继AlphaFold 大火之后，DeepMind 又一款算法蹿红。12 月 23 日，DeepMind 在官网发表博文 MuZero: Mastering Go, chess, shogi and Atari without rules，并详细介绍了这款名为 MuZero 的 AI 算法。**\n",
    "\n",
    "![](https://ai-studio-static-online.cdn.bcebos.com/a8c87916f6d048fcbbbbe8233c90d15fb4ba2e459fd340418c4aff0d79d3f29a)\n",
    "*  AlphaGo 提供了人类知识（Human Knowledge）和规则（Rules），因此可训练出一个大的策略树，来完成搜索、以及帮助做出决策；\n",
    "*  AlphaGo Zero 去掉了人类知识部分，而是只给 AI 提供规则，然后通过自我博弈，就能学习出自己的策略；\n",
    "*  AlphaZero 则可通过完全信息，利用泛化能力更强的强化学习算法来做训练，并学会不同的游戏，如围棋、国际象棋和日本将棋。\n",
    "*  MuZero 则是前级阶段的升级版，即在没有人类知识以及规则的情况下，它能通过分析环境和未知条件（Unknown Dynamics），来进行不同游戏的博弈。\n",
    "\n",
    "\n",
    "\n",
    "**本项目是一个极简的MuZero的实现，没有使用MCTS方法，模型由Representation_model、Dynamics_Model、Prediction_Model构成：**\n",
    "* Representation_model将一组观察值映射到神经网络的隐藏状态s；\n",
    "* 动态Dynamics_Model根据动作a_(t + 1)将状态s_t映射到下一个状态s_(t + 1)，同时估算在此过程的回报r_t，这样模型就能够不断向前扩展；\n",
    "* 预测Prediction_Model 根据状态s_t对策略p_t和值v_t进行估计；\n"
   ]
  },
  {
   "cell_type": "code",
   "execution_count": 1,
   "metadata": {
    "collapsed": false
   },
   "outputs": [],
   "source": [
    "import gym\r\n",
    "import numpy as np\r\n",
    "import paddle\r\n",
    "import paddle.nn as nn \r\n",
    "import paddle.optimizer as optim\r\n",
    "import paddle.nn.functional as F\r\n",
    "import copy\r\n",
    "import random\r\n",
    "from tqdm import tqdm\r\n",
    "from collections import deque\r\n",
    "\r\n",
    "env = gym.make('CartPole-v0')\r\n",
    "hidden_dims = 128\r\n",
    "o_dim = env.observation_space.shape[0]\r\n",
    "\r\n",
    "\r\n",
    "act_dim  = env.action_space.n\r\n",
    "\r\n",
    "Representation_model= paddle.nn.Sequential(\r\n",
    "    paddle.nn.Linear(\r\n",
    "        o_dim, 128),\r\n",
    "    paddle.nn.ELU(),\r\n",
    "    paddle.nn.Linear(128, hidden_dims),\r\n",
    "    \r\n",
    "    )\r\n",
    "\r\n",
    "# paddle.summary(h, (50,4))\r\n",
    "\r\n",
    "class Dynamics_Model(paddle.nn.Layer):\r\n",
    "    # action encoding - one hot\r\n",
    "    \r\n",
    "    def __init__(self, num_hidden, num_actions): \r\n",
    "        super().__init__()\r\n",
    "        \r\n",
    "        self.num_hidden = num_hidden\r\n",
    "        self.num_actions = num_actions\r\n",
    "        network = [\r\n",
    "        nn.Linear(self.num_hidden+self.num_actions, self.num_hidden),\r\n",
    "        nn.ELU(),\r\n",
    "        nn.Linear(self.num_hidden,128),\r\n",
    "        ]       \r\n",
    "        self.network = nn.Sequential(*network)   \r\n",
    "        self.hs =  nn.Linear(128,self.num_hidden)\r\n",
    "        self.r =  nn.Linear(128,1)\r\n",
    "    def forward(self, hs,a):\r\n",
    "        out = paddle.concat(x=[hs, a], axis=-1)\r\n",
    "        out = self.network(out)\r\n",
    "        hidden =self.hs(out) \r\n",
    "        reward = self.r(out)\r\n",
    "        \r\n",
    "        \r\n",
    "        \r\n",
    "        return hidden, reward\r\n",
    "# D = Dynamics_Model(hidden_dims,act_dim)\r\n",
    "# paddle.summary(D, [(2,hidden_dims),(2,2)])\r\n",
    "\r\n",
    "class Prediction_Model(paddle.nn.Layer):\r\n",
    "    \r\n",
    "    def __init__(self, num_hidden, num_actions):\r\n",
    "        super().__init__()\r\n",
    "        \r\n",
    "        self.num_actions = num_actions\r\n",
    "        self.num_hidden = num_hidden\r\n",
    "        \r\n",
    "        network = [\r\n",
    "            nn.Linear(num_hidden, 128),\r\n",
    "            nn.ELU(),\r\n",
    "            nn.Linear(128, 128),\r\n",
    "            nn.ELU(),\r\n",
    "        ]       \r\n",
    "        self.network = nn.Sequential(*network)\r\n",
    "\r\n",
    "        self.pi =  nn.Linear(128,self.num_actions)\r\n",
    "        self.soft = nn.Softmax()\r\n",
    "\r\n",
    "        self.v =  nn.Linear(128,1)\r\n",
    "\r\n",
    "    def forward(self, x):\r\n",
    "        out = self.network(x)\r\n",
    "        p = self.pi(out)\r\n",
    "        p =self.soft(p)\r\n",
    "\r\n",
    "        v = self.v(out)       \r\n",
    "        return v, p  \r\n",
    "\r\n",
    "# P= Prediction_Model(hidden_dims,act_dim)\r\n",
    "# paddle.summary(P, [(32,hidden_dims)])\r\n",
    "\r\n",
    "class MuZero_Agent(paddle.nn.Layer):\r\n",
    "    \r\n",
    "    def __init__(self,num_hidden ,num_actions):\r\n",
    "        super().__init__()\r\n",
    "        self.num_actions = num_actions\r\n",
    "        self.num_hidden = num_hidden\r\n",
    "        \r\n",
    "        self.representation_model = Representation_model\r\n",
    "        self.dynamics_model = Dynamics_Model(self.num_hidden,self.num_actions)\r\n",
    "        self.prediction_model = Prediction_Model(self.num_hidden,self.num_actions)      \r\n",
    "        \r\n",
    "\r\n",
    "\r\n",
    "    def forward(self, s,a):\r\n",
    "        s_0 = self.representation_model(s)\r\n",
    "        s_1 ,r_1 = self.dynamics_model(s_0 , a)\r\n",
    "        value , p = self.prediction_model(s_1)\r\n",
    "\r\n",
    "    \r\n",
    "        return r_1, value ,p\r\n",
    "mu = MuZero_Agent(128,2)\r\n",
    "mu.train()"
   ]
  },
  {
   "cell_type": "code",
   "execution_count": 2,
   "metadata": {
    "collapsed": false
   },
   "outputs": [
    {
     "name": "stderr",
     "output_type": "stream",
     "text": [
      "100%|██████████| 2000/2000 [07:18<00:00,  4.56it/s]\n"
     ]
    }
   ],
   "source": [
    "buffer = deque(maxlen=500)\r\n",
    "def choose_action(env, evaluate=False):\r\n",
    "    values = []\r\n",
    "    # mu.eval()\r\n",
    "    for a in range(env.action_space.n):\r\n",
    "        e = copy.deepcopy(env)\r\n",
    "        o, r, d, _ = e.step(a)\r\n",
    "        act = np.zeros(env.action_space.n); act[a] = 1\r\n",
    "        state = paddle.to_tensor(list(e.state), dtype='float32')\r\n",
    "        action = paddle.to_tensor(act, dtype='float32')\r\n",
    "        # print(state,action)\r\n",
    "        \r\n",
    "        rew, v, pi = mu(state, action)        \r\n",
    "        v = v.numpy()[0]    \r\n",
    "        values.append(v)\r\n",
    "    # mu.train()\r\n",
    "    if evaluate:\r\n",
    "        return np.argmax(values)\r\n",
    "    else:\r\n",
    "        for i in range(len(values)):\r\n",
    "            if values[i] < 0:\r\n",
    "                values[i] = 0\r\n",
    "        s = sum(values)\r\n",
    "        if s == 0:\r\n",
    "            return np.random.choice(values)\r\n",
    "        for i in range(len(values)):\r\n",
    "            values[i] /= s\r\n",
    "        # print(values)\r\n",
    "        return np.random.choice(range(env.action_space.n), p=values)\r\n",
    "\r\n",
    "gamma = 0.997\r\n",
    "batch_size = 64  ##64\r\n",
    "evaluate = False\r\n",
    "scores = []\r\n",
    "avg_scores = []\r\n",
    "epochs = 2_000\r\n",
    "\r\n",
    "optim = paddle.optimizer.Adam(learning_rate=1e-3,parameters=mu.parameters())\r\n",
    "\r\n",
    "mse_loss = nn.MSELoss()\r\n",
    "\r\n",
    "for episode in tqdm(range(epochs)):\r\n",
    "    obs = env.reset()\r\n",
    "    done = False\r\n",
    "    score = 0\r\n",
    "    while not done:        \r\n",
    "        a = choose_action(env, evaluate=evaluate)\r\n",
    "        a_pi = np.zeros((env.action_space.n)); a_pi[a] = 1\r\n",
    "\r\n",
    "        obs_, r, done, _ = env.step(a)\r\n",
    "        score += r\r\n",
    "        buffer.append([obs, None, a_pi, r/200])\r\n",
    "        obs = obs_\r\n",
    "\r\n",
    "    #print(f'score: {score}')\r\n",
    "    scores.append(score)\r\n",
    "\r\n",
    "    if len(scores) >= 100:\r\n",
    "        avg_scores.append(np.mean(scores[-100:]))\r\n",
    "    else:\r\n",
    "        avg_scores.append(np.mean(scores))    \r\n",
    "    \r\n",
    "    cnt = score\r\n",
    "    for i in range(len(buffer)):\r\n",
    "        if buffer[i][1] == None:\r\n",
    "            buffer[i][1] = cnt / 200\r\n",
    "            cnt -= 1\r\n",
    "    assert(cnt == 0)\r\n",
    "    \r\n",
    "    if len(buffer) >= batch_size:\r\n",
    "        batch = []\r\n",
    "        indexes = np.random.choice(len(buffer), batch_size, replace=False)\r\n",
    "\r\n",
    "\r\n",
    "\r\n",
    "        for i in range(batch_size):\r\n",
    "            batch.append(buffer[indexes[i]])\r\n",
    "        states = paddle.to_tensor([transition[0] for transition in batch], dtype='float32')\r\n",
    "        values = paddle.to_tensor([transition[1] for transition in batch], dtype='float32')\r\n",
    "        values = paddle.reshape(values,[batch_size,-1])\r\n",
    "        policies = paddle.to_tensor([transition[2] for transition in batch], dtype='float32')\r\n",
    "        rewards = paddle.to_tensor([transition[3] for transition in batch], dtype='float32')\r\n",
    "        rewards = paddle.reshape(rewards,[batch_size,-1])\r\n",
    "        for _ in range(2):\r\n",
    "            # mu.train_on_batch([states, policies], [rewards, values, policies])\r\n",
    "            rew, v, pi = mu(states, policies)\r\n",
    "            # print(\"----rew---{}----v---{}----------pi---{}\".format(rew, v, pi))\r\n",
    "            # print(\"----rewards---{}----values---{}----------policies---{}\".format(rewards, values, policies))\r\n",
    "            \r\n",
    "            \r\n",
    "            policy_loss = -paddle.mean(paddle.sum(policies*paddle.log(pi), axis=1))\r\n",
    "            mse1 = mse_loss(rew, rewards)\r\n",
    "            mse2 =mse_loss(v,values)\r\n",
    "            # print(mse1,mse2 ,policy_loss)\r\n",
    "                       \r\n",
    "            loss = paddle.add_n([policy_loss,mse1,mse2])\r\n",
    "            # print(loss)\r\n",
    "            loss.backward()\r\n",
    "            optim.step()\r\n",
    "            optim.clear_grad()"
   ]
  },
  {
   "cell_type": "code",
   "execution_count": null,
   "metadata": {
    "collapsed": false
   },
   "outputs": [],
   "source": [
    "# 模型保存\r\n",
    "model_state_dict = mu.state_dict()\r\n",
    "paddle.save(model_state_dict, \"mu.pdparams\")"
   ]
  },
  {
   "cell_type": "code",
   "execution_count": 4,
   "metadata": {
    "collapsed": false
   },
   "outputs": [
    {
     "data": {
      "image/png": "[encoded data removed]",
      "text/plain": [
       "<Figure size 432x288 with 1 Axes>"
      ]
     },
     "metadata": {},
     "output_type": "display_data"
    }
   ],
   "source": [
    "import matplotlib.pyplot as plt\r\n",
    "plt.plot(scores)\r\n",
    "plt.plot(avg_scores)\r\n",
    "plt.xlabel('episode')\r\n",
    "plt.legend(['scores', 'avg scores'])\r\n",
    "plt.title('scores')\r\n",
    "plt.ylim(0, 200)\r\n",
    "plt.show()"
   ]
  },
  {
   "cell_type": "code",
   "execution_count": 5,
   "metadata": {
    "collapsed": false
   },
   "outputs": [
    {
     "data": {
      "image/png": "[encoded data removed]",
      "text/plain": [
       "<Figure size 432x288 with 1 Axes>"
      ]
     },
     "metadata": {},
     "output_type": "display_data"
    }
   ],
   "source": [
    "# 模型测试 ，可以看到testing scores在100次测试中均为200，说明模型已经完全掌握了这个简单的游戏\r\n",
    "# 模型读取\r\n",
    "# model_state_dict = paddle.load(\"mu.pdparams\")\r\n",
    "# mu.set_state_dict(model_state_dict)\r\n",
    "\r\n",
    "import matplotlib.pyplot as plt\r\n",
    "tests = 100\r\n",
    "scores = []\r\n",
    "mu.eval()\r\n",
    "for episode in range(tests):\r\n",
    "    obs = env.reset()\r\n",
    "    done = False\r\n",
    "    score = 0\r\n",
    "    while not done:\r\n",
    "        a = choose_action(env, evaluate=True)      \r\n",
    "        obs_, r, done, _ = env.step(a)\r\n",
    "        score += r\r\n",
    "        obs = obs_\r\n",
    "    scores.append(score)\r\n",
    "plt.plot(scores)\r\n",
    "plt.title('testing scores')\r\n",
    "plt.show()"
   ]
  },
  {
   "cell_type": "markdown",
   "metadata": {
    "collapsed": false
   },
   "source": [
    "写在最后：\n",
    "* MuZero 能够对规则、环境进行建模， 与此同时它还能学会规则，这就是它的最大创新。也是因为这个，MuZero的搜索空间变得更大，所以计算量会大大增加，但理论上仍旧是强化学习。\n",
    "* 人类世界中的规则随时在变化，那么显然 Muzero 相比二代 AlphaZero 具有更好的生存能力。可以看到的是，Muzero 有潜力成为广泛使用的强化学习算法。\n",
    "* 后续有计划在Atari、Gomoku、Tic-tac-toe 等环境下复现Muzero算法\n"
   ]
  }
 ],
 "metadata": {
  "kernelspec": {
   "display_name": "PaddlePaddle 2.0.0b0 (Python 3.5)",
   "language": "python",
   "name": "py35-paddle1.2.0"
  },
  "language_info": {
   "codemirror_mode": {
    "name": "ipython",
    "version": 3
   },
   "file_extension": ".py",
   "mimetype": "text/x-python",
   "name": "python",
   "nbconvert_exporter": "python",
   "pygments_lexer": "ipython3",
   "version": "3.7.4"
  }
 },
 "nbformat": 4,
 "nbformat_minor": 1
}
